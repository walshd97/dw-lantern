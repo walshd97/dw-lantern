{
 "cells": [
  {
   "cell_type": "code",
   "execution_count": 1,
   "id": "48840fc4",
   "metadata": {},
   "outputs": [],
   "source": [
    "import duckdb"
   ]
  },
  {
   "cell_type": "code",
   "execution_count": 2,
   "id": "99a18ce5",
   "metadata": {},
   "outputs": [],
   "source": [
    "db_path = '/workspaces/dw-lantern/lantern_dw/transactions.duckdb'"
   ]
  },
  {
   "cell_type": "code",
   "execution_count": null,
   "id": "3ab50b6d",
   "metadata": {},
   "outputs": [
    {
     "data": {
      "text/html": [
       "<div>\n",
       "<style scoped>\n",
       "    .dataframe tbody tr th:only-of-type {\n",
       "        vertical-align: middle;\n",
       "    }\n",
       "\n",
       "    .dataframe tbody tr th {\n",
       "        vertical-align: top;\n",
       "    }\n",
       "\n",
       "    .dataframe thead th {\n",
       "        text-align: right;\n",
       "    }\n",
       "</style>\n",
       "<table border=\"1\" class=\"dataframe\">\n",
       "  <thead>\n",
       "    <tr style=\"text-align: right;\">\n",
       "      <th></th>\n",
       "      <th>company_id</th>\n",
       "      <th>company</th>\n",
       "      <th>year</th>\n",
       "      <th>total_yearly_revenue</th>\n",
       "      <th>total_yearly_cost</th>\n",
       "      <th>total_yearly_profit</th>\n",
       "      <th>num_sales</th>\n",
       "    </tr>\n",
       "  </thead>\n",
       "  <tbody>\n",
       "    <tr>\n",
       "      <th>0</th>\n",
       "      <td>3</td>\n",
       "      <td>NanoBuild</td>\n",
       "      <td>2024</td>\n",
       "      <td>579275.0</td>\n",
       "      <td>352230.0</td>\n",
       "      <td>227045.0</td>\n",
       "      <td>245</td>\n",
       "    </tr>\n",
       "    <tr>\n",
       "      <th>1</th>\n",
       "      <td>5</td>\n",
       "      <td>TitanTech</td>\n",
       "      <td>2024</td>\n",
       "      <td>837000.0</td>\n",
       "      <td>633500.0</td>\n",
       "      <td>203500.0</td>\n",
       "      <td>366</td>\n",
       "    </tr>\n",
       "    <tr>\n",
       "      <th>2</th>\n",
       "      <td>1</td>\n",
       "      <td>FreshByte</td>\n",
       "      <td>2024</td>\n",
       "      <td>557568.0</td>\n",
       "      <td>360480.0</td>\n",
       "      <td>197088.0</td>\n",
       "      <td>240</td>\n",
       "    </tr>\n",
       "    <tr>\n",
       "      <th>3</th>\n",
       "      <td>4</td>\n",
       "      <td>OmniCorp</td>\n",
       "      <td>2024</td>\n",
       "      <td>727300.0</td>\n",
       "      <td>580100.0</td>\n",
       "      <td>147200.0</td>\n",
       "      <td>365</td>\n",
       "    </tr>\n",
       "    <tr>\n",
       "      <th>4</th>\n",
       "      <td>2</td>\n",
       "      <td>ModuGear</td>\n",
       "      <td>2024</td>\n",
       "      <td>424440.0</td>\n",
       "      <td>374400.0</td>\n",
       "      <td>50040.0</td>\n",
       "      <td>172</td>\n",
       "    </tr>\n",
       "  </tbody>\n",
       "</table>\n",
       "</div>"
      ],
      "text/plain": [
       "   company_id    company  year  total_yearly_revenue  total_yearly_cost  \\\n",
       "0           3  NanoBuild  2024              579275.0           352230.0   \n",
       "1           5  TitanTech  2024              837000.0           633500.0   \n",
       "2           1  FreshByte  2024              557568.0           360480.0   \n",
       "3           4   OmniCorp  2024              727300.0           580100.0   \n",
       "4           2   ModuGear  2024              424440.0           374400.0   \n",
       "\n",
       "   total_yearly_profit  num_sales  \n",
       "0             227045.0        245  \n",
       "1             203500.0        366  \n",
       "2             197088.0        240  \n",
       "3             147200.0        365  \n",
       "4              50040.0        172  "
      ]
     },
     "execution_count": 3,
     "metadata": {},
     "output_type": "execute_result"
    },
    {
     "ename": "",
     "evalue": "",
     "output_type": "error",
     "traceback": [
      "\u001b[1;31mThe Kernel crashed while executing code in the current cell or a previous cell. \n",
      "\u001b[1;31mPlease review the code in the cell(s) to identify a possible cause of the failure. \n",
      "\u001b[1;31mClick <a href='https://aka.ms/vscodeJupyterKernelCrash'>here</a> for more info. \n",
      "\u001b[1;31mView Jupyter <a href='command:jupyter.viewOutput'>log</a> for further details."
     ]
    }
   ],
   "source": [
    "\n",
    "conn = duckdb.connect(db_path)\n",
    "\n",
    "df = conn.execute(\"select * from '02_company_comparison'\").fetchdf()\n",
    "\n",
    "df"
   ]
  }
 ],
 "metadata": {
  "kernelspec": {
   "display_name": "Python 3",
   "language": "python",
   "name": "python3"
  },
  "language_info": {
   "codemirror_mode": {
    "name": "ipython",
    "version": 3
   },
   "file_extension": ".py",
   "mimetype": "text/x-python",
   "name": "python",
   "nbconvert_exporter": "python",
   "pygments_lexer": "ipython3",
   "version": "3.12.1"
  }
 },
 "nbformat": 4,
 "nbformat_minor": 5
}
